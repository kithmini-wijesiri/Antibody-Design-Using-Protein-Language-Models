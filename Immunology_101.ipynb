{
  "nbformat": 4,
  "nbformat_minor": 0,
  "metadata": {
    "colab": {
      "provenance": [],
      "authorship_tag": "ABX9TyM3vTs2hZD1rIz2F2LNgEhI",
      "include_colab_link": true
    },
    "kernelspec": {
      "name": "python3",
      "display_name": "Python 3"
    },
    "language_info": {
      "name": "python"
    }
  },
  "cells": [
    {
      "cell_type": "markdown",
      "metadata": {
        "id": "view-in-github",
        "colab_type": "text"
      },
      "source": [
        "<a href=\"https://colab.research.google.com/github/kithmini-wijesiri/Antibody-Design-Using-Protein-Language-Models/blob/main/Immunology_101.ipynb\" target=\"_parent\"><img src=\"https://colab.research.google.com/assets/colab-badge.svg\" alt=\"Open In Colab\"/></a>"
      ]
    },
    {
      "cell_type": "markdown",
      "metadata": {
        "id": "ORyy5J62W06y"
      },
      "source": [
        "\n",
        "### 1.1 What is the immune system?\n",
        "\n",
        "Like other body systems such as the digestive system or the cardiovascular system, the immune system is fundamentally a collection of specialized cells  that operate together to accomplish a specific [homeostatic](https://en.wikipedia.org//wiki/Homeostasis) function. The immune system is responsible for the protection of our body's vast resources (lipids, carbodhydrates, enzymes, proteins), especially against opportunistic threats of the outside world, such as viruses and bacteria. A very simple yet powerful component of the immune system is the skin, which keeps what's out, out and what's in, in. However, what happens when we get a cut/scrape or when we walk past someone who's coughing and accidentally breathe in the droplets? Thankfully, it turns out the immune system has a whole army of highly specialized white blood cells patrolling our blood and lymph nodes, ready to launch a multi-layered response against these and the countless other cases where foreign objects may enter our bodies. Through these white bloods cells, the immune system is able to accomplish its primary function, **self-nonself discrimination**, the accurate identification of molecules that are sufficiently dissimilar than those derived from a healthy person.\n",
        "\n",
        "If you would like to learn more about the complex problem of self non-self discrimination, and appreciate the theory behind the immune system's organization and function, we recommend checking out the following works:\n",
        "\n",
        "* A Theory of Self-Nonself Discrimination (https://www.science.org/doi/10.1126/science.169.3950.1042)\n",
        "* The common sense of the self-nonself discrimination, 2005 (https://link.springer.com/article/10.1007/s00281-005-0199-1)\n",
        "* Conceptual aspects of self and nonself discrimination, 2011 (https://www.tandfonline.com/doi/epdf/10.4161/self.2.1.15094?needAccess=true)\n",
        "* Self-Nonself Discrimination due to Immunological Nonlinearities: the Analysis of a Series of Models by Numerical Methods, 1987 (https://academic.oup.com/imammb/article/4/1/1/875656)\n",
        "* A biological context for the self-nonself discrimination and the regulation of effector class by the immune system, 2005 (https://link.springer.com/article/10.1385/IR:31:2:133)\n"
      ]
    },
    {
      "cell_type": "markdown",
      "metadata": {
        "id": "ZHvAX37NXE1s"
      },
      "source": [
        "\n",
        "### **1.2 Innate vs. Adaptive Immune System**\n",
        "\n",
        "Remarkably, these [white blood cells](https://en.wikipedia.org/wiki/White_blood_cell) operate independently, adding and subtracting from the local context (tissue microenvironment), orchestrating cohesive responses in a completely decentralized manner. Individual white blood cells interact with their environments through general [cytokine](https://en.wikipedia.org/wiki/Cytokine) and [chemokine](https://en.wikipedia.org/wiki/Chemokine) surface receptors that facilitate gradient sensing of the local environment. This is the primary axis by which immune cells are able to home to sites of infection/wound healing and send pro-inflammatory or anti-inflammatory signals to neighboring cells. In addition, nearly all immune cells require some level of activation by means of receptor:ligand stimulation by non-self signatures. How specific these receptors are helps highlight the delineation between the two arms of the immune system: the innate and adaptive immune systems.\n",
        "\n",
        "#### 1.2.1 The Innate Immune System\n",
        "\n",
        "The [innate immune system](https://en.wikipedia.org/wiki/Innate_immune_system) is the body's first line of defense, and encompasses different types of cells (and proteins) that recognize broadly non-self signals known as pathogen-associated or damage-associated molecular patterns ([PAMPs](https://en.wikipedia.org/wiki/Pathogen-associated_molecular_pattern) or [DAMPs](https://en.wikipedia.org/wiki/Damage-associated_molecular_pattern)). The effector cells of the innate immune system are decorated with ~20 different kinds of pattern recognition receptors (PRRs) that recognize broad signals (single stranded DNA, LPS, other signals of pathogen activity). Being the first responders, the innate immune system handles containment, engulfing the offending signals and otherwise blocking it off, and tries to destroy the threat. Lastly, these cells simultaneously sound the alarm, putting the local area into a heightened state of threat detection and infection prevention, such as spiking a fever and initiating swelling to draw in more immune cells.\n",
        "\n",
        "#### 1.2.2 The Adaptive Immune System\n",
        "\n",
        "The  [adaptive immune system](https://en.wikipedia.org/wiki/Adaptive_immune_system) on the other hand, is slow to respond and is often brought in by innate cell activation. Instead of broad PRRs, it relies on tens of millions of [somatically rearranged](https://en.wikipedia.org/wiki/Somatic_recombination) and stochastically generated highly specific adaptive immune receptors (AIRs) whose shape complementarity allows them to identify their complementary molecular patterns called epitopes. There are many more differences between the innate and adaptive immune systems, such as the latter's ability to develop a durable memory response, and those are introduced in greater detail here (https://www.ncbi.nlm.nih.gov/books/NBK27090/). It is important to note however, that it is through the independent and asynchronous operation of both the innate and adaptive immune system that we see the dynamics (https://www.nature.com/articles/nri700) of threat detection, message passing, calling for reinforcements, homing of adaptive immune cells, and activation/expansion of these cells, resulting in complete clearance of the pathogen.Another key distinction between the innate and adaptive immune system is the formation of a robust memory response. Amazingly, evolution has steered this system to imprint past pathogen exposures so that upon re-exposure to the same signal, a small pool of memory cells is activated and antigen-specifc adaptive immune cells rapidly proliferatre and clear the antigen-source (https://asm.org/articles/2023/may/understanding-immunological-memory).\n",
        "\n",
        "\n",
        "```algorithmic\n",
        "Adaptive Immune Algorithm\n",
        "\n",
        "1. Nascent progenitor cells undergoes somatic recombination to stochastically generate an Adaptive Immune Receptor (AIR).\n",
        "2. Self-selecting methods of ensuring self-tolerance remove cells that react too strongly to the self before being released into the blood.\n",
        "3. In periphery, naive (antigen-inexperienced) cells interact with antigens via AIRs in search of their cognate epitope.\n",
        "4. Upon recognition of a sufficiently strong epitope reaction, they divide rapidly and overwhelm the offending antigen with sheer numbers and specialized effector function.\n",
        "5. After the threat has cleared, this expanded population contracts as cells die without activation signalling, and a lasting pool of memory cells remains.\n",
        "6. Memory pool persists and is reactivated in an effector state upon antigen reintroduction.\n",
        "```\n",
        "### 1.2.3 Effector Cells of the Adaptive Immune System\n",
        "There are two major types of effector cells in the adaptive immune response: [T-cells](https://en.wikipedia.org/wiki/T_cell) and [B-cells](https://en.wikipedia.org/wiki/B_cell). Both the T-cell and B-cell populations in the body are contextualized through their adaptive immune receptors, T-cell Receptors (TCRs) and B-cell Receptors (BCRs), respectively. We can think of both populations as repertoires of receptors, conferring protection against the threats recognized by the repertoire. T-cells help maitnain [cellular immunity](https://en.wikipedia.org/wiki/Cell-mediated_immunity) by interrogating the intracellular component of our bodies' by using their TCRs to scan recycled protein fragments presented at the cell surface (Read more about T-cell mediated immunity here (https://www.ncbi.nlm.nih.gov/books/NBK10762/)). B-cells, on the other hand, use their BCRs to survey the extracellular compartment and are tasked with upkeeping [humoral immunity](https://en.wikipedia.org/wiki/Humoral_immunity): neutralizing threats floating around in the blood and plasma. As effector cells of the adaptive immune response, both T-cell and B-cells are similar in their development and their operation as a unit, though the specifics of per cell function are quite different.\n",
        "\n",
        "**Note**: A helpful distinction between antigens and epitopes is that an antigen is something that broadly generates an immune response and can have multiple epitopes. Epitopes are specific molecular patterns that have a matching paratope (binding surface of an adaptive immune receptor).\n",
        "\n",
        "\n",
        "![immune_system.png](https://www.creative-diagnostics.com/upload/image/innate%20and%20adaptive%20immunity2.png)\n",
        "\n",
        "Image Source: [Creative Diagnostics](https://www.creative-diagnostics.com/innate-and-adaptive-immunity.htm)"
      ]
    },
    {
      "cell_type": "markdown",
      "metadata": {
        "id": "MwiuaB4gX_bZ"
      },
      "source": [
        "### **1.3 B-Cells and Antibodies**\n",
        "\n",
        "\n",
        "B-cells, or B-lymphocytes, get their name not from their origin in the bone marrow, but from their discovery in a particular organ of the chicken (https://www.sciencedirect.com/science/article/pii/S0032579119369536?via%3Dihub). These cells circulate in the bloodstream, equipped with unique B-cell receptors (BCRs) that allow them to recognize specific antigens, leading to their activation. This process often requires additional stimulation from helper T-cells which provide essential co-stimulatory signals, an additional layer of verification for non-selfness.\n",
        "\n",
        "Over the course of the COVID pandemic, whether we wanted to or not were exposed to the concept of antibodies and learned of their association with some sort of protective capacity against SARS-COV-2. But what are they, and where do they originate from?\n",
        "\n",
        "Antibodies (Abs) are typically represented as Y-shaped proteins that bind to their cognate epitope surfaces with high specificity and affinity, similar to how TCRs and BCRs bind to their epitopes. This is because antibodies are the soluble form of the B-cell receptor that is secreted into the blood upon B-cell activation in the presence of its cognate antigen. The secretion of large amounts of antibodies is the primary effector function of B-cells. Upon activation, a B-cell will divide, with the daughter cells inheriting the same BCR, and some of these cells will differentiate into plasma cells, which are the Ab factories capable of secreting thousands of Abs/min. This is especially useful upon antigen re-encounter where a large amount of antibodies are released by memory cells which neutralize the pathogen even before we develop the symptoms of infection (this is what most common vaccines are designed to do).\n",
        "\n",
        "![b_cell_activation.png](https://media.beckman.com/-/media/stock-images/resource-center/images/b_cell_activation-2022-05.jpg?rev=4680b251612b4f0c9afc3280029d0cc7)\n",
        "\n",
        "Image Source: [Beckman](https://www.beckman.com/resources/cell-types/blood-cells/leukocytes/lymphocytes/b-cells)\n",
        "\n",
        "Neutralizing mechanisms of pathogenesis is only one way that antibody tagging is useful to immune defense. Antibody tagging plays a key role in a number of humoral immunity processes:\n",
        "\n",
        "1. [Neutralization](https://en.wikipedia.org/wiki/Neutralizing_antibody): De-activation of pathogenic function by near complete coating of the functional component of pathogens or toxins by antibodies to inhibit interaction with host cells (i.e. and antibody that binds to the surface glycoproteins on SARS-COV2 now inhibit that virus particle's ability to enter cells expressing ACE2).\n",
        "\n",
        "2. [Opsonization](https://en.wikipedia.org/wiki/Antibody_opsonization): Partial coating of pathogens enhances rates phagocytosis and removal from the blood by cells of the innate immune system.\n",
        "\n",
        "3. [Agglutination/Precipitation](https://en.wikipedia.org/wiki/Agglutination_(biology)): Since antibodies have 2 arms (each arm of the Y), they can cross-link and form anitbody-antigens chains which can precipitate out of the plasma and increase their chances of being recognized as aberrant and cleared by phagocytes.\n",
        "\n",
        "4. [Complement Activation](https://en.wikipedia.org/wiki/Complement_system): The complement system is a collection of inactive proteins and protein precursors are self-amplifying on activation and help with multiple aspects of humoral immunity. Yet another function of antibodies is their role in initiating the complement cascade that ends in the lysis or phagocytosis of pathogens.\n",
        "\n",
        "![antibody_function.png](https://www.agproud.com/ext/resources/PD/images/stories/2021/03/11/031121-pd-weiland-fg1.jpg?t=1695665765&width=610)\n",
        "\n",
        "Image Source: The Immune System: Innate and Adaptive Body Defenses Figure 21.15 pulled from [[Source]](https://www.agproud.com/articles/35884-understanding-vaccines)\n",
        "\n",
        "Given the importance of B-cell mediated immunity, as operationalized by the body's antibody repertoire, it's clear that the diversity of BCR clones plays a critical role in our ability to mount an effective response against a pathogen. The maintenance of a robust BCR repertoire highlights not only the complexity of the immune response but also underscores the potential for leveraging the modularity of this mechanism to introduce new clones for their extraordinary precision in therapeutics such as vaccine development.\n"
      ]
    },
    {
      "cell_type": "markdown",
      "metadata": {
        "id": "CFtfuGufYFqU"
      },
      "source": [
        "### **1.4 Antibody Sequence, Structure, and Function**\n",
        "\n",
        "The remarkable diversity of antibodies is achieved through somatic recombination, or gene rearrangement at the DNA level that occurs outside of meiosis. The AIR-specific somatic recombination is known as [V(D)J recombination](https://en.wikipedia.org/wiki/VDJ_recombination) and generates both TCR and BCR diversity. During V(D)J recombination, a single gene per set is sampled from the set of variable (V), diversity (D), and joining (J) gene segments and randomly joined together with some baked in error (insertions) to create stable BCRs with unique antigen-binding sites. Additionally, B-cells have an additional process that further amplifies the diversity as well as the functional capacity of antigen-specific antibodies. This process is known as somatic hypermutation. When an activated B-cell divides, somatic hypermutation (SHM) introduces point mutations in the variable regions of BCR generating minor variants of each BCR. These daughter cells compete for survival signals mediated through antigen binding such that only the stronger binders survive.\n",
        "\n",
        "Structurally, antibodies are composed of two identical light chains and two identical heavy chains, linked by disulfide bonds. Each chain contributes to the formation of the antigen-binding site, located in the variable regions. Within these regions, hypervariable loops known as complementarity determining regions (CDRs) dictate the specificity and affinity of the antibody-antigen interaction. This specificity is measured in terms of affinity using the dissociation constant (Kd), and the avidity (affinity over multi-valent binding sites, see [IgM](https://en.wikipedia.org/wiki/Immunoglobulin_M), [IgA](https://en.wikipedia.org/wiki/Immunoglobulin_A)). The antibody molecule is divided into two main functional regions:\n",
        "\n",
        "1. Fab Region (Fragment, antigen-binding): Contains the variable regions of the light and heavy chains, responsible for antigen recognition and binding.\n",
        "2. Fc Region (Fragment, crystallizable): Composed of the constant regions of the heavy chains, mediates interactions with innate immune cells and the complement system.\n",
        "\n",
        "![test_image](https://www.dianova.com/en/wp-content/uploads/sites/3/2021/01/Antikorperstruktur-IgG.jpg)\n",
        "\n",
        "Image Source: Dianova: [Antibody Structure](https://www.dianova.com/en/faq/antibody-structure-what-is-a-secondary-antibody/) \\\\\n",
        "\n",
        "By harnessing the selection of evolutionary pressures during somatic hypermutation, the B-cell compartment uses a powerful method of further tuning the antibody specificity to have some of the highest affinity interactions in the known protein universe (https://www.embopress.org/doi/full/10.1093/emboj/cdg359). Their high precision and binding affinities have caused their broad adoption in not only therapeutics but commercial and research applications as well as to tag proteins in solution in flow cytometry, CyTOF, immuno-precipitation, and other target identification assays."
      ]
    },
    {
      "cell_type": "markdown",
      "metadata": {
        "id": "KLk0vYLQqjrZ"
      },
      "source": [
        "### **1.5 Current Paradigms for Antibodies as a Therapeutic Modality**\n",
        "\n",
        "Given their unparalleled ability to precisely and durably bind arbitrary targets, there has been a significant interest in possessing antibodies for desired targets. There are a number of therapeutic use cases for these antibodies, for diseases ranging from transplant rejection, non-Hodgkin's lymphoma, immune checkpoint inhibitors for cancer immunotherapy, psoriasis, multiple sclerosis, Crohn's disease, and many more. While antibodies against common pathogens can be isolated from the serum of convalescent individuals and screened for specificity, the process of procuring novel antibodies is substantially more challenging and involves inoculating an animal with an antigen and isolating the antibodies after. For example, [anti-venom](https://en.wikipedia.org/wiki/Antivenom) is a solution of antibodies derived from animals (typically horses) against cytotoxic proteins found in venom. This procedure is both resource and labor intensive. This is because after inoculation and isolation of antibodies from the animal, there is an additional step of screening them for reactivity against the target using reaction chemistry methods such as [surface plamon resonance](https://en.wikipedia.org/wiki/Surface_plasmon_resonance) or [bio-layer interferometry](https://en.wikipedia.org/wiki/Bio-layer_interferometry). As such there has been a great deal of interest in methods of *in-silico* antibody design. A number of approaches have shown reasonable degrees of success in this task from guided evolution based approaches (https://www.nature.com/articles/s41587-023-01763-2) to newer diffusion based (https://arxiv.org/abs/2308.05027) approaches. In this tutorial we will pay homage to the former."
      ]
    }
  ]
}